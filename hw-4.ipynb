{
 "cells": [
  {
   "cell_type": "code",
   "execution_count": 1,
   "metadata": {
    "collapsed": true
   },
   "outputs": [],
   "source": [
    "import numpy as np\n",
    "import matplotlib.pyplot as plt\n",
    "from math import sqrt\n",
    "from random import uniform\n",
    "from time import time\n",
    "from multiprocessing import Pool\n",
    "import dask.array as da"
   ]
  },
  {
   "cell_type": "markdown",
   "metadata": {},
   "source": [
    "# Simple "
   ]
  },
  {
   "cell_type": "code",
   "execution_count": 2,
   "metadata": {
    "collapsed": false
   },
   "outputs": [],
   "source": [
    "def simulation(number_of_darts):\n",
    "    number_of_darts_in_circle=0.0\n",
    "    start_time=time()\n",
    "    \n",
    "    for n in range(number_of_darts):\n",
    "        x, y = uniform(0,1), uniform(0,1)\n",
    "        if sqrt((x-0.5)**2+(y-0.5)**2)<=0.5:\n",
    "            number_of_darts_in_circle += 1 \n",
    "        \n",
    "    pi_approx= 4*number_of_darts_in_circle/float(number_of_darts)\n",
    "    end_time=time()\n",
    "    execution_time=end_time-start_time\n",
    "       \n",
    "    print(\"Method 1: Calculation without Parallelism\")\n",
    "    print('Pi Approximation: ', pi_approx)\n",
    "    print('Number of Darts: ', number_of_darts)\n",
    "    print('Execution Time: ', execution_time)\n",
    "    print('Darts Thrown per Second: ', number_of_darts/execution_time)\n",
    "    \n",
    "    return(execution_time, number_of_darts/execution_time)"
   ]
  },
  {
   "cell_type": "code",
   "execution_count": 3,
   "metadata": {
    "collapsed": false
   },
   "outputs": [
    {
     "name": "stdout",
     "output_type": "stream",
     "text": [
      "Method 1: Calculation without Parallelism\n",
      "Pi Approximation:  3.14228\n",
      "Number of Darts:  100000\n",
      "Execution Time:  0.18668603897094727\n",
      "Darts Thrown per Second:  535658.6949469872\n"
     ]
    },
    {
     "data": {
      "text/plain": [
       "(0.18668603897094727, 535658.6949469872)"
      ]
     },
     "execution_count": 3,
     "metadata": {},
     "output_type": "execute_result"
    }
   ],
   "source": [
    "simulation(100000)"
   ]
  },
  {
   "cell_type": "markdown",
   "metadata": {},
   "source": [
    "# Multiprocessing"
   ]
  },
  {
   "cell_type": "code",
   "execution_count": 4,
   "metadata": {
    "collapsed": true
   },
   "outputs": [],
   "source": [
    "def one_run(in_circle=0):\n",
    "    x, y = uniform(0,1), uniform(0,1)\n",
    "    if sqrt((x-0.5)**2+(y-0.5)**2)<=0.5:\n",
    "        in_circle=1\n",
    "    return(in_circle)"
   ]
  },
  {
   "cell_type": "code",
   "execution_count": 5,
   "metadata": {
    "collapsed": false
   },
   "outputs": [
    {
     "data": {
      "text/plain": [
       "0"
      ]
     },
     "execution_count": 5,
     "metadata": {},
     "output_type": "execute_result"
    }
   ],
   "source": [
    "one_run()"
   ]
  },
  {
   "cell_type": "code",
   "execution_count": 6,
   "metadata": {
    "collapsed": true
   },
   "outputs": [],
   "source": [
    "def mp_simulation(number_of_darts):\n",
    "    pool = Pool(processes=4)\n",
    "    start_time=time()\n",
    "    g=pool.map(one_run, range(number_of_darts))\n",
    "    pi_approx= 4*sum(g)/float(number_of_darts)\n",
    "    end_time=time()\n",
    "    execution_time=end_time-start_time\n",
    "    del pool\n",
    "    \n",
    "    print(\"Method 2: Calculation Using Multiprocessing\")\n",
    "    print('Pi Approximation: ', pi_approx)\n",
    "    print('Number of Darts: ', number_of_darts)\n",
    "    print('Execution Time: ', execution_time)\n",
    "    print('Darts Thrown per Second: ', number_of_darts/execution_time)\n",
    "    \n",
    "    return(execution_time, number_of_darts/execution_time)"
   ]
  },
  {
   "cell_type": "code",
   "execution_count": 7,
   "metadata": {
    "collapsed": false
   },
   "outputs": [
    {
     "name": "stdout",
     "output_type": "stream",
     "text": [
      "Method 2: Calculation Using Multiprocessing\n",
      "Pi Approximation:  42616.33084\n",
      "Number of Darts:  100000\n",
      "Execution Time:  0.11759805679321289\n",
      "Darts Thrown per Second:  850354.1871941157\n"
     ]
    },
    {
     "data": {
      "text/plain": [
       "(0.11759805679321289, 850354.1871941157)"
      ]
     },
     "execution_count": 7,
     "metadata": {},
     "output_type": "execute_result"
    }
   ],
   "source": [
    "mp_simulation(100000)"
   ]
  },
  {
   "cell_type": "markdown",
   "metadata": {},
   "source": [
    "# DASK"
   ]
  },
  {
   "cell_type": "code",
   "execution_count": 8,
   "metadata": {
    "collapsed": false
   },
   "outputs": [],
   "source": [
    "def dask_simulation(number_of_darts):\n",
    "    start_time=time()\n",
    "    x = da.random.uniform(0,1,size=number_of_darts, chunks=1000) \n",
    "    y = da.random.uniform(0,1,size=number_of_darts, chunks=1000)\n",
    "    dart_in_circle=(x-0.5)**2 + (y-0.5)**2 < 0.5**2\n",
    "    pi_approx= 4*sum(dart_in_circle.compute())/float(number_of_darts)\n",
    "    end_time=time()\n",
    "    execution_time=end_time-start_time\n",
    "    \n",
    "    print(\"Method 3: Calculation Using DASK\")\n",
    "    print('Pi Approximation: ', pi_approx)\n",
    "    print('Number of Darts: ', number_of_darts)\n",
    "    print('Execution Time: ', execution_time)\n",
    "    print('Darts Thrown per Second: ', number_of_darts/execution_time)\n",
    "    \n",
    "    return(execution_time, number_of_darts/execution_time)"
   ]
  },
  {
   "cell_type": "code",
   "execution_count": 9,
   "metadata": {
    "collapsed": false
   },
   "outputs": [
    {
     "name": "stdout",
     "output_type": "stream",
     "text": [
      "Method 3: Calculation Using DASK\n",
      "Pi Approximation:  3.14952\n",
      "Number of Darts:  100000\n",
      "Execution Time:  0.4294250011444092\n",
      "Darts Thrown per Second:  232869.53422251143\n"
     ]
    },
    {
     "data": {
      "text/plain": [
       "(0.4294250011444092, 232869.53422251143)"
      ]
     },
     "execution_count": 9,
     "metadata": {},
     "output_type": "execute_result"
    }
   ],
   "source": [
    "dask_simulation(100000)"
   ]
  },
  {
   "cell_type": "code",
   "execution_count": 10,
   "metadata": {
    "collapsed": false
   },
   "outputs": [],
   "source": [
    "no_dart = np.logspace(1,7,9)\n",
    "no_dart = no_dart.astype(int)\n",
    "sim_time=np.ones(no_dart.size)\n",
    "sim_rate=np.ones(no_dart.size)\n",
    "mp_time=np.ones(no_dart.size)\n",
    "mp_rate=np.ones(no_dart.size)\n",
    "dask_time=np.ones(no_dart.size)\n",
    "dask_rate=np.ones(no_dart.size)"
   ]
  },
  {
   "cell_type": "code",
   "execution_count": 11,
   "metadata": {
    "collapsed": false
   },
   "outputs": [
    {
     "name": "stdout",
     "output_type": "stream",
     "text": [
      "Method 1: Calculation without Parallelism\n",
      "Pi Approximation:  4.0\n",
      "Number of Darts:  10\n",
      "Execution Time:  8.487701416015625e-05\n",
      "Darts Thrown per Second:  117817.52809\n",
      "Method 2: Calculation Using Multiprocessing\n",
      "Pi Approximation:  9.2\n",
      "Number of Darts:  10\n",
      "Execution Time:  0.005920886993408203\n",
      "Darts Thrown per Second:  1688.93613594\n",
      "Method 3: Calculation Using DASK\n",
      "Pi Approximation:  3.2\n",
      "Number of Darts:  10\n",
      "Execution Time:  0.023488998413085938\n",
      "Darts Thrown per Second:  425.731222087\n",
      "Method 1: Calculation without Parallelism\n",
      "Pi Approximation:  3.0714285714285716\n",
      "Number of Darts:  56\n",
      "Execution Time:  0.00014519691467285156\n",
      "Darts Thrown per Second:  385683.126437\n",
      "Method 2: Calculation Using Multiprocessing\n",
      "Pi Approximation:  21.0\n",
      "Number of Darts:  56\n",
      "Execution Time:  0.004478931427001953\n",
      "Darts Thrown per Second:  12502.9822208\n",
      "Method 3: Calculation Using DASK\n",
      "Pi Approximation:  2.85714285714\n",
      "Number of Darts:  56\n",
      "Execution Time:  0.019743919372558594\n",
      "Darts Thrown per Second:  2836.31628266\n",
      "Method 1: Calculation without Parallelism\n",
      "Pi Approximation:  3.2531645569620253\n",
      "Number of Darts:  316\n",
      "Execution Time:  0.0005359649658203125\n",
      "Darts Thrown per Second:  589590.775801\n",
      "Method 2: Calculation Using Multiprocessing\n",
      "Pi Approximation:  129.0632911392405\n",
      "Number of Darts:  316\n",
      "Execution Time:  0.0052340030670166016\n",
      "Darts Thrown per Second:  60374.439211\n",
      "Method 3: Calculation Using DASK\n",
      "Pi Approximation:  3.08860759494\n",
      "Number of Darts:  316\n",
      "Execution Time:  0.02224111557006836\n",
      "Darts Thrown per Second:  14207.9204168\n",
      "Method 1: Calculation without Parallelism\n",
      "Pi Approximation:  3.1338582677165356\n",
      "Number of Darts:  1778\n",
      "Execution Time:  0.0030210018157958984\n",
      "Darts Thrown per Second:  588546.485045\n",
      "Method 2: Calculation Using Multiprocessing\n",
      "Pi Approximation:  759.1496062992126\n",
      "Number of Darts:  1778\n",
      "Execution Time:  0.006838083267211914\n",
      "Darts Thrown per Second:  260014.382762\n",
      "Method 3: Calculation Using DASK\n",
      "Pi Approximation:  3.17885264342\n",
      "Number of Darts:  1778\n",
      "Execution Time:  0.0296170711517334\n",
      "Darts Thrown per Second:  60032.9448814\n",
      "Method 1: Calculation without Parallelism\n",
      "Pi Approximation:  3.1228\n",
      "Number of Darts:  10000\n",
      "Execution Time:  0.017138004302978516\n",
      "Darts Thrown per Second:  583498.511449\n",
      "Method 2: Calculation Using Multiprocessing\n",
      "Pi Approximation:  4385.808\n",
      "Number of Darts:  10000\n",
      "Execution Time:  0.016489028930664062\n",
      "Darts Thrown per Second:  606463.851938\n",
      "Method 3: Calculation Using DASK\n",
      "Pi Approximation:  3.1336\n",
      "Number of Darts:  10000\n",
      "Execution Time:  0.07200002670288086\n",
      "Darts Thrown per Second:  138888.837379\n",
      "Method 1: Calculation without Parallelism\n",
      "Pi Approximation:  3.144289931358253\n",
      "Number of Darts:  56234\n",
      "Execution Time:  0.09469389915466309\n",
      "Darts Thrown per Second:  593850.295552\n",
      "Method 2: Calculation Using Multiprocessing\n",
      "Pi Approximation:  24518.84895259096\n",
      "Number of Darts:  56234\n",
      "Execution Time:  0.06550312042236328\n",
      "Darts Thrown per Second:  858493.452486\n",
      "Method 3: Calculation Using DASK\n",
      "Pi Approximation:  3.14535690152\n",
      "Number of Darts:  56234\n",
      "Execution Time:  0.2792232036590576\n",
      "Darts Thrown per Second:  201394.437364\n",
      "Method 1: Calculation without Parallelism\n",
      "Pi Approximation:  3.144108504333912\n",
      "Number of Darts:  316227\n",
      "Execution Time:  0.5920710563659668\n",
      "Darts Thrown per Second:  534103.12259\n",
      "Method 2: Calculation Using Multiprocessing\n",
      "Pi Approximation:  136576.39713243968\n",
      "Number of Darts:  316227\n",
      "Execution Time:  0.42290401458740234\n",
      "Darts Thrown per Second:  747751.236905\n",
      "Method 3: Calculation Using DASK\n",
      "Pi Approximation:  3.13936507635\n",
      "Number of Darts:  316227\n",
      "Execution Time:  1.512035846710205\n",
      "Darts Thrown per Second:  209139.882952\n",
      "Method 1: Calculation without Parallelism\n",
      "Pi Approximation:  3.141561026138193\n",
      "Number of Darts:  1778279\n",
      "Execution Time:  3.386561870574951\n",
      "Darts Thrown per Second:  525098.630399\n",
      "Method 2: Calculation Using Multiprocessing\n",
      "Pi Approximation:  764376.4412445966\n",
      "Number of Darts:  1778279\n",
      "Execution Time:  2.036099910736084\n",
      "Darts Thrown per Second:  873375.118099\n",
      "Method 3: Calculation Using DASK\n",
      "Pi Approximation:  3.14268345968\n",
      "Number of Darts:  1778279\n",
      "Execution Time:  7.779552221298218\n",
      "Darts Thrown per Second:  228583.721712\n",
      "Method 1: Calculation without Parallelism\n",
      "Pi Approximation:  3.1421256\n",
      "Number of Darts:  10000000\n",
      "Execution Time:  17.737717866897583\n",
      "Darts Thrown per Second:  563770.383261\n",
      "Method 2: Calculation Using Multiprocessing\n",
      "Pi Approximation:  4286073.0432488\n",
      "Number of Darts:  10000000\n",
      "Execution Time:  13.421481847763062\n",
      "Darts Thrown per Second:  745074.211136\n",
      "Method 3: Calculation Using DASK\n",
      "Pi Approximation:  3.141046\n",
      "Number of Darts:  10000000\n",
      "Execution Time:  45.858453035354614\n",
      "Darts Thrown per Second:  218062.305597\n"
     ]
    }
   ],
   "source": [
    "for i in range(no_dart.size):\n",
    "    sim_time[i],sim_rate[i]=simulation(no_dart[i])\n",
    "    mp_time[i],mp_rate[i]=mp_simulation(no_dart[i])\n",
    "    dask_time[i],dask_rate[i]=dask_simulation(no_dart[i])"
   ]
  },
  {
   "cell_type": "code",
   "execution_count": 12,
   "metadata": {
    "collapsed": true
   },
   "outputs": [],
   "source": [
    "%matplotlib inline"
   ]
  },
  {
   "cell_type": "code",
   "execution_count": 25,
   "metadata": {
    "collapsed": false
   },
   "outputs": [
    {
     "data": {
      "text/plain": [
       "<matplotlib.legend.Legend at 0x117933e80>"
      ]
     },
     "execution_count": 25,
     "metadata": {},
     "output_type": "execute_result"
    },
    {
     "data": {
      "image/png": "[encoded data removed]",
      "text/plain": [
       "<matplotlib.figure.Figure at 0x117a0f5c0>"
      ]
     },
     "metadata": {},
     "output_type": "display_data"
    }
   ],
   "source": [
    "fig,ax1=plt.subplots(figsize=(8,6))\n",
    "ax2 = ax1.twinx()\n",
    "plt.yscale('log')\n",
    "plt.xscale('log')\n",
    "ax1.set_yscale(\"log\")\n",
    "ax2.yaxis.tick_right() \n",
    "sim1 = ax1.plot(no_dart, sim_time, color = 'red', linestyle = '-', label = \"Simple\")\n",
    "sim2 = ax2.plot(no_dart, sim_rate, color = 'red', linestyle = '--', label = \"Simple\")\n",
    "mp1 = ax1.plot(no_dart, mp_time, color = 'blue', linestyle = '-', label = \"Multiprocessing\")\n",
    "mp2 = ax2.plot(no_dart, mp_rate, color = 'blue', linestyle = '--', label = \"Multiprocessing\")\n",
    "dask1 = ax1.plot(no_dart, dask_time, color = 'green', linestyle = '-', label = \"DASK\")\n",
    "dask2 = ax2.plot(no_dart, dask_rate, color = 'green', linestyle = '--', label = \"DASK\")\n",
    "\n",
    "ax1.minorticks_on()\n",
    "ax2.minorticks_on()\n",
    "ax1.set_ylim(10**(-5), 10**2)\n",
    "ax2.set_ylim(10**2, 10**7)\n",
    "ax1.set_ylabel('Execution Time (seconds), solid time')\n",
    "ax1.set_xlabel('Darts Thrown')\n",
    "ax2.set_ylabel('Simulation Rate (darts/second), dashed time')\n",
    "ax1.legend(prop={'size':10}, loc = 0)"
   ]
  },
  {
   "cell_type": "markdown",
   "metadata": {
    "collapsed": true
   },
   "source": [
    "I collaborated with Kevin Li and Shiman Ding."
   ]
  },
  {
   "cell_type": "code",
   "execution_count": null,
   "metadata": {
    "collapsed": true
   },
   "outputs": [],
   "source": []
  }
 ],
 "metadata": {
  "anaconda-cloud": {},
  "kernelspec": {
   "display_name": "Python [bootcamp-env]",
   "language": "python",
   "name": "Python [bootcamp-env]"
  },
  "language_info": {
   "codemirror_mode": {
    "name": "ipython",
    "version": 3
   },
   "file_extension": ".py",
   "mimetype": "text/x-python",
   "name": "python",
   "nbconvert_exporter": "python",
   "pygments_lexer": "ipython3",
   "version": "3.5.2"
  }
 },
 "nbformat": 4,
 "nbformat_minor": 0
}
